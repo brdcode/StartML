{
 "cells": [
  {
   "metadata": {},
   "cell_type": "markdown",
   "source": [
    "### Task 1\n",
    "Create a variable i and assign the value 3 to it."
   ],
   "id": "37699013c3b2eaa3"
  },
  {
   "metadata": {},
   "cell_type": "code",
   "source": "i = 3",
   "id": "d97a4bbf21479b57",
   "outputs": [],
   "execution_count": null
  },
  {
   "metadata": {},
   "cell_type": "markdown",
   "source": [
    "### Task 2\n",
    "\n",
    "Create three variables: `name`, `age`, and `is_student` and assign them any name, age, and True/False respectively.\n",
    "\n",
    "Then print these variables by passing them as three arguments to the `print` function, or by calling `print` three times.\n",
    "\n",
    "Create a comment anywhere in the program and write the date when you solved the task. This won't affect anything—it's just for practice in writing comments."
   ],
   "id": "b3010937dee0360e"
  },
  {
   "metadata": {},
   "cell_type": "code",
   "source": [
    "name = 'Yevgeniy'\n",
    "age = 44\n",
    "is_student = True # Is the person studying something at the moment?\n",
    "\n",
    "print(name, age, is_student)"
   ],
   "id": "379d9b93e149b357",
   "outputs": [],
   "execution_count": null
  },
  {
   "metadata": {},
   "cell_type": "markdown",
   "source": [
    "### Task 3\n",
    "\n",
    "In the following steps, we will try to use variables for simple arithmetic.\n",
    "\n",
    "Let's assume we have `total_money` and we are going to the store to buy jam jars in reserve. Each jar of jam costs `price` (with `price > 0`). Our task is to calculate how many jars we can buy.\n",
    "\n",
    "The variables `total_money` and `price` are already set in the LMS, you do not need to define them yourself. Your task is to calculate the answer using these predefined variables.\n",
    "\n",
    "Store the result in the variable `jar_count`."
   ],
   "id": "4be1df212d8177ff"
  },
  {
   "metadata": {},
   "cell_type": "code",
   "source": [
    "total_money = 100\n",
    "price = 17\n",
    "jar_count = total_money // price\n",
    "print(jar_count)"
   ],
   "id": "714d1f922b1e9f8",
   "outputs": [],
   "execution_count": null
  },
  {
   "metadata": {},
   "cell_type": "markdown",
   "source": [
    "### Task 4\n",
    "\n",
    "a*x^2 + b*x - c = 0  \n",
    "a=3, b=7, c=−10\n",
    "\n",
    "Given `a`, `b`, and `c`, calculate both roots of this equation. As in the previous task, the variables `a`, `b`, and `c` are already set in the LMS, so you do not need to define them yourself.\n",
    "\n",
    "Store both solutions of the equation in variables named `x_1` and `x_2` respectively. The order does not matter—if the equation has solutions 2 and 5, both `x_1 = 2, x_2 = 5` and `x_1 = 5, x_2 = 2` will be accepted.\n",
    "\n",
    "In the checking system, the numbers `a`, `b`, and `c` will be chosen so that the equation will always have two solutions, and `a != 0`."
   ],
   "id": "8de74a7c7aabbb57"
  },
  {
   "metadata": {},
   "cell_type": "code",
   "source": [
    "a = 3\n",
    "b = 7\n",
    "c = -10\n",
    "\n",
    "x_1 = (-b + (b**2 - 4*a*c)**0.5)/(2*a)\n",
    "x_2 = (-b - (b**2 - 4*a*c)**0.5)/(2*a)\n",
    "\n",
    "print(x_1, x_2)"
   ],
   "id": "bfe658cdef3a07fb",
   "outputs": [],
   "execution_count": null
  },
  {
   "metadata": {},
   "cell_type": "markdown",
   "source": [
    "### Task 6\n",
    "\n",
    "Let's now see how Python works with non-numeric data.\n",
    "\n",
    "Suppose we have a task to create a notebook for recording today's tasks. We want the order of tasks to be preserved (i.e., the tasks will be recorded in the same order they were added). Additionally, we want to be able to delete items from this notebook.\n",
    "\n",
    "What data type do you think would be suitable for this?\n",
    "\n",
    "---\n",
    "`list`"
   ],
   "id": "a82183eb6da3648c"
  },
  {
   "metadata": {},
   "cell_type": "markdown",
   "source": [
    "### Task 7\n",
    "\n",
    "Typically, tasks are written in free form, for example, \"Go to the store for bread.\"\n",
    "\n",
    "What type do you think a single entry in our list would be?\n",
    "\n",
    "---\n",
    "\n",
    "`str`"
   ],
   "id": "aa5b031db40da740"
  },
  {
   "metadata": {},
   "cell_type": "markdown",
   "source": [
    "### Task 8\n",
    "\n",
    "Everything is ready to keep track of tasks. We have two lists, `tasks_my` and `tasks_friend`.\n",
    "\n",
    "Now you need to merge these lists into one (in any way, with `tasks_my` first, then `tasks_friend`) and save the result in `tasks_all`.\n",
    "\n",
    "NB! The variables `tasks_my` and `tasks_friend` are already loaded in the LMS, so you don't need to create them."
   ],
   "id": "fa515bb1eb2e066e"
  },
  {
   "metadata": {},
   "cell_type": "code",
   "source": [
    "tasks_my = ['wake up', 'exercise']\n",
    "tasks_friend = ['breakfast', 'study']\n",
    "tasks_all = tasks_my + tasks_friend\n",
    "print(tasks_all)"
   ],
   "id": "233e79971ee92971",
   "outputs": [],
   "execution_count": null
  },
  {
   "metadata": {},
   "cell_type": "markdown",
   "source": [
    "### Task 10\n",
    "\n",
    "Now that we have decided on the data structure, we can create our notebook.\n",
    "\n",
    "Its content should be as follows:\n",
    "\n",
    "| Priority | Task                              |\n",
    "|----------|-----------------------------------|\n",
    "| 1        | Water the plants                  |\n",
    "| 0        | Feed the cat                      |\n",
    "| 1        | Pick up the package               |\n",
    "| 2        | Read a book on programming        |\n",
    "| 3        | Reply to the letter from the cousin |\n",
    "\n",
    "Task: Write code to create a dictionary and save it in the variable `tasks`.\n",
    "\n",
    "NB! Note that tasks with the same priority should be in the same order as in the table!\n",
    "\n",
    "NB! The keys in this dictionary should be of integer type."
   ],
   "id": "a342e78859325fa8"
  },
  {
   "metadata": {},
   "cell_type": "code",
   "source": [
    "tasks = {\n",
    "    1: [\"Water the plants\", \"Pick up the package\"],\n",
    "    0: [\"Feed the cat\"],\n",
    "    2: [\"Read a book on programming\"],\n",
    "    3: [\"Reply to the letter from the cousin\"]\n",
    "}\n",
    "\n",
    "print(tasks)"
   ],
   "id": "b4a04a3003c188ab",
   "outputs": [],
   "execution_count": null
  },
  {
   "metadata": {},
   "cell_type": "markdown",
   "source": [
    "### Task 11\n",
    "\n",
    "Great! Now we have a dictionary `tasks` that contains tasks of different priorities.\n",
    "\n",
    "Now we want to perform a simple check: if there are tasks with a priority of zero, the program should print the string \"есть срочные дела\" (there are urgent tasks), otherwise \"можно отдохнуть\" (you can rest).\n",
    "\n",
    "NB! The keys in the `tasks` dictionary are of integer type.\n",
    "\n",
    "NB! The variable `tasks` is already loaded in the LMS, so you don't need to create it."
   ],
   "id": "c73b520e825e7234"
  },
  {
   "metadata": {},
   "cell_type": "code",
   "source": [
    "tasks = {\n",
    "    1: [\"Water the plants\", \"Pick up the package\"],\n",
    "    0: [\"Feed the cat\"],\n",
    "    2: [\"Read a book on programming\"],\n",
    "    3: [\"Reply to the letter from the cousin\"]\n",
    "}\n",
    "\n",
    "if 0 in tasks and tasks[0]: # Check if the key 0 is present and its value is non-empty\n",
    "    print(\"есть срочные дела\")\n",
    "else:\n",
    "    print(\"можно отдохнуть\")"
   ],
   "id": "b77f3d4a8b53ff57",
   "outputs": [],
   "execution_count": null
  },
  {
   "metadata": {},
   "cell_type": "markdown",
   "source": [
    "### Task 12\n",
    "\n",
    "In this task, we will continue working with the `tasks` dictionary, which contains tasks of different priorities, and write our first loop!\n",
    "\n",
    "Iterate over the keys of the dictionary and add their values (lists of tasks) to the list `values`.\n",
    "\n",
    "NB! The variable `tasks` is already loaded in the LMS, so you don't need to create it."
   ],
   "id": "6286242f957532f4"
  },
  {
   "metadata": {},
   "cell_type": "code",
   "source": [
    "tasks = {\n",
    "    1: [\"Water the plants\", \"Pick up the package\"],\n",
    "    0: [\"Feed the cat\"],\n",
    "    2: [\"Read a book on programming\"],\n",
    "    3: [\"Reply to the letter from the cousin\"]\n",
    "}\n",
    "\n",
    "values = []\n",
    "for i in tasks.values():\n",
    "    values.append(i)\n",
    "    \n",
    "print(values)"
   ],
   "id": "26f9875089c218e9",
   "outputs": [],
   "execution_count": null
  },
  {
   "metadata": {},
   "cell_type": "markdown",
   "source": [
    "### Task 13\n",
    "\n",
    "Let's make the task a bit more complicated. Previously, we iterated over the keys of the dictionary and saved its values—the lists of tasks. Now we want to save not the lists of tasks, but the tasks themselves. To do this, iterate over all the items in the dictionary values and add the tasks to the list `doings`.\n",
    "\n",
    "NB! The variable `tasks` is already loaded in the LMS, so you don't need to create it."
   ],
   "id": "b148fab00443d5df"
  },
  {
   "metadata": {},
   "cell_type": "code",
   "source": [
    "tasks = {\n",
    "    1: [\"Water the plants\", \"Pick up the package\"],\n",
    "    0: [\"Feed the cat\"],\n",
    "    2: [\"Read a book on programming\"],\n",
    "    3: [\"Reply to the letter from the cousin\"]\n",
    "}\n",
    "\n",
    "doings = []\n",
    "for key in tasks:\n",
    "    doings.extend(tasks[key])\n",
    "    \n",
    "print(values)"
   ],
   "id": "67dca36718eaf26d",
   "outputs": [],
   "execution_count": null
  },
  {
   "metadata": {},
   "cell_type": "markdown",
   "source": [
    "### Task 14\n",
    "\n",
    "This task includes elements from the previous ones, but now, in addition to iterating over all keys and values, you need to select only those tasks that contain the substring `cat` and add them to the list `answer`.\n",
    "\n",
    "NB! The variable `tasks` is already loaded in the LMS, so you don't need to create it."
   ],
   "id": "81264180905d5052"
  },
  {
   "metadata": {},
   "cell_type": "code",
   "source": [
    "tasks = {\n",
    "    1: [\"Water the plants\", \"Pick up the package\"],\n",
    "    0: [\"Feed the cat\"],\n",
    "    2: [\"Read a book on programming\"],\n",
    "    3: [\"Reply to the letter from the cousin\"]\n",
    "}\n",
    "\n",
    "answer = []\n",
    "\n",
    "for priority in tasks:\n",
    "    for task in tasks[priority]:\n",
    "        if \"cat\" in task:\n",
    "            answer.append(task)\n",
    "\n",
    "print(answer)"
   ],
   "id": "783d0d5225cbd803",
   "outputs": [],
   "execution_count": null
  },
  {
   "metadata": {},
   "cell_type": "markdown",
   "source": [
    "### Task 15\n",
    "\n",
    "The next task is similar to the previous one. We will iterate over the keys of the `tasks` dictionary, take tasks from there, and add them one by one to the list `answer`. However, we want to prevent ourselves from taking on too many tasks, so we will check if we have already taken on too much work.\n",
    "\n",
    "Today we are feeling lazy, so we are only willing to take the most urgent tasks. Specifically, only those with a priority of less than two.\n",
    "\n",
    "If the length of the `answer` list reaches two, we decide that we have enough tasks for today and stop the execution of the loop. And one more important point — only add tasks to the list that contain the substring \"кот\".\n",
    "\n",
    "In the end, there should be a filled variable `answer`, which contains tasks (not lists of tasks) obtained according to the above algorithm. Printing the list is not necessary — you have probably printed it many times while developing the code :)\n",
    "\n",
    "NB! The variable `tasks` is already loaded in the LMS, so you don't need to create it."
   ],
   "id": "cc2c97e4ea4565a2"
  },
  {
   "metadata": {},
   "cell_type": "code",
   "source": [
    "tasks = {\n",
    "    1: [\"Water the plants\", \"Pick up the package\"],\n",
    "    0: [\"Feed the cat\"],\n",
    "    2: [\"Read a book on programming\"],\n",
    "    3: [\"Reply to the letter from the cousin\"]\n",
    "}\n",
    "\n",
    "answer = []\n",
    "for key in tasks:\n",
    "    if key < 2:\n",
    "        for task in tasks[key]:\n",
    "            if len(answer) >= 2:\n",
    "                break\n",
    "            if 'cat' in task:\n",
    "                answer.append(task)\n",
    "    if len(answer) >= 2:\n",
    "        break\n",
    "        \n",
    "print(answer)"
   ],
   "id": "aa1610caf6bf7a4a",
   "outputs": [],
   "execution_count": null
  },
  {
   "metadata": {},
   "cell_type": "markdown",
   "source": [
    "### Task 16\n",
    "\n",
    "The last week has been tough, and you have constantly had to hastily add new tasks to your notebook. Now the same task may be duplicated in your notebook! Deadlines are looming, so you are ready to get started on tasks without worrying about their order.\n",
    "\n",
    "You are given a dictionary with tasks, `tasks`. Iterate over all the keys and remove duplicates only within the values corresponding to each key. Create a new dictionary, `new_tasks`, which will have the same keys and the same tasks, but without duplicates.\n",
    "\n",
    "For example:\n",
    "\n",
    "```python\n",
    "tasks = { \n",
    "    0: [\"Покормить кота\", \"Покормить кота\"],\n",
    "    1: [\"Покормить кота\", \"Забрать посылку\"]\n",
    "}\n",
    "\n",
    "# Result\n",
    "new_tasks = {\n",
    "    0: ['Покормить кота'],\n",
    "    1: ['Покормить кота', 'Забрать посылку']\n",
    "}\n",
    "```\n",
    "\n",
    "Note that:\n",
    "- The values in the dictionary should have the type `list`.\n",
    "- The order of tasks in the list does not matter.\n",
    "\n",
    "NB! The variable `tasks` is already loaded in the LMS, so you don't need to create it."
   ],
   "id": "be1d05a255e94ef5"
  },
  {
   "metadata": {},
   "cell_type": "code",
   "source": [
    "tasks = { \n",
    "    0: [\"Покормить кота\", \"Покормить кота\"],\n",
    "    1: [\"Покормить кота\", \"Забрать посылку\"]\n",
    "}\n",
    "\n",
    "new_tasks = {key: list(set(tasks[key])) for key in tasks}\n",
    "\n",
    "print(new_tasks)"
   ],
   "id": "6aab810c7153379c",
   "outputs": [],
   "execution_count": null
  }
 ],
 "metadata": {
  "kernelspec": {
   "display_name": "Python 3",
   "language": "python",
   "name": "python3"
  },
  "language_info": {
   "codemirror_mode": {
    "name": "ipython",
    "version": 2
   },
   "file_extension": ".py",
   "mimetype": "text/x-python",
   "name": "python",
   "nbconvert_exporter": "python",
   "pygments_lexer": "ipython2",
   "version": "2.7.6"
  }
 },
 "nbformat": 4,
 "nbformat_minor": 5
}
